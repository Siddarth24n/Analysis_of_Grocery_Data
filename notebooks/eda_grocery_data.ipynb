
{
 "cells": [
  {
   "cell_type": "markdown",
   "metadata": {},
   "source": [
    "# Grocery Data EDA\n",
    "Exploratory Data Analysis of Blinkit-style synthetic grocery dataset."
   ]
  },
  {
   "cell_type": "code",
   "execution_count": null,
   "metadata": {},
   "outputs": [],
   "source": [
    "import pandas as pd\n",
    "import matplotlib.pyplot as plt\n",
    "import seaborn as sns\n",
    "\n",
    "df = pd.read_csv('../data/grocery_data.csv')\n",
    "df.head()"
   ]
  },
  {
   "cell_type": "code",
   "execution_count": null,
   "metadata": {},
   "outputs": [],
   "source": [
    "# Product Category Distribution\n",
    "plt.figure(figsize=(10, 6))\n",
    "sns.countplot(data=df, x='product_category', order=df['product_category'].value_counts().index)\n",
    "plt.title('Product Category Distribution')\n",
    "plt.xticks(rotation=45)\n",
    "plt.tight_layout()\n",
    "plt.savefig('../images/product_category_distribution.png')\n",
    "plt.show()"
   ]
  },
  {
   "cell_type": "code",
   "execution_count": null,
   "metadata": {},
   "outputs": [],
   "source": [
    "# Average Price by Product Category\n",
    "plt.figure(figsize=(10, 6))\n",
    "sns.barplot(data=df, x='product_category', y='price', estimator='mean')\n",
    "plt.title('Average Price by Category')\n",
    "plt.xticks(rotation=45)\n",
    "plt.tight_layout()\n",
    "plt.savefig('../images/avg_price_by_category.png')\n",
    "plt.show()"
   ]
  },
  {
   "cell_type": "code",
   "execution_count": null,
   "metadata": {},
   "outputs": [],
   "source": [
    "# Delivery Time Distribution\n",
    "plt.figure(figsize=(8, 6))\n",
    "sns.histplot(df['delivery_time'], bins=30, kde=True)\n",
    "plt.title('Delivery Time Distribution')\n",
    "plt.tight_layout()\n",
    "plt.savefig('../images/delivery_time_distribution.png')\n",
    "plt.show()"
   ]
  }
 ],
 "metadata": {
  "kernelspec": {
   "display_name": "Python 3",
   "language": "python",
   "name": "python3"
  },
  "language_info": {
   "name": "python",
   "version": "3.8"
  }
 },
 "nbformat": 4,
 "nbformat_minor": 4
}
